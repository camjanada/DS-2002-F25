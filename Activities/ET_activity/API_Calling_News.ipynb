{
 "cells": [
  {
   "cell_type": "markdown",
   "id": "839e7f26-f9e5-4a6d-b967-8bb46edfdc1f",
   "metadata": {},
   "source": [
    "# Data Acquisition via API Calls (NewsAPI)"
   ]
  },
  {
   "cell_type": "markdown",
   "id": "0727af3f-4ad7-48dc-b815-618b279fe27e",
   "metadata": {},
   "source": [
    "---"
   ]
  },
  {
   "cell_type": "markdown",
   "id": "06ad6eae-a4a2-4229-8cc7-3e66c6003f73",
   "metadata": {},
   "source": [
    "## Phase 1: Setup and Security"
   ]
  },
  {
   "cell_type": "markdown",
   "id": "4b38d294-14bd-45b0-a556-cda81bc7334b",
   "metadata": {},
   "source": [
    "### Install Dependencies"
   ]
  },
  {
   "cell_type": "code",
   "execution_count": 1,
   "id": "434cfda4-9de8-4cc6-a23d-89da51b23f6d",
   "metadata": {},
   "outputs": [
    {
     "name": "stdout",
     "output_type": "stream",
     "text": [
      "Collecting python-dotenv\n",
      "  Downloading python_dotenv-1.1.1-py3-none-any.whl.metadata (24 kB)\n",
      "Downloading python_dotenv-1.1.1-py3-none-any.whl (20 kB)\n",
      "Installing collected packages: python-dotenv\n",
      "Successfully installed python-dotenv-1.1.1\n",
      "\n",
      "\u001b[1m[\u001b[0m\u001b[34;49mnotice\u001b[0m\u001b[1;39;49m]\u001b[0m\u001b[39;49m A new release of pip is available: \u001b[0m\u001b[31;49m25.1.1\u001b[0m\u001b[39;49m -> \u001b[0m\u001b[32;49m25.2\u001b[0m\n",
      "\u001b[1m[\u001b[0m\u001b[34;49mnotice\u001b[0m\u001b[1;39;49m]\u001b[0m\u001b[39;49m To update, run: \u001b[0m\u001b[32;49mpython3 -m pip install --upgrade pip\u001b[0m\n",
      "Dependencies installed successfully.\n"
     ]
    }
   ],
   "source": [
    "# Install the necessary library for loading environment variables (like API keys)\n",
    "!pip install python-dotenv\n",
    "\n",
    "print(\"Dependencies installed successfully.\")"
   ]
  },
  {
   "cell_type": "markdown",
   "id": "2c1f2e3a-048f-4fe2-858c-75dc46293f49",
   "metadata": {},
   "source": [
    "### Import Modules\n",
    "Import all necessary Python libraries. Note that `requests` is the primary tool for submitting HTTP requests."
   ]
  },
  {
   "cell_type": "code",
   "execution_count": 2,
   "id": "04207cb4-b746-4365-82ca-09fcde405c76",
   "metadata": {},
   "outputs": [
    {
     "name": "stdout",
     "output_type": "stream",
     "text": [
      "Modules imported.\n"
     ]
    }
   ],
   "source": [
    "import numpy as np\n",
    "import pandas as pd\n",
    "import os\n",
    "import requests\n",
    "import json\n",
    "import dotenv\n",
    "from datetime import datetime\n",
    "\n",
    "print(\"Modules imported.\")"
   ]
  },
  {
   "cell_type": "markdown",
   "id": "bbcd31b8-25bf-4434-904c-5a2d7596f1c7",
   "metadata": {},
   "source": [
    "### Load Environment Variables\n",
    "This loads your `.env` file, which is crucial for securely handling your NewsAPI key without exposing it in the notebook."
   ]
  },
  {
   "cell_type": "code",
   "execution_count": 3,
   "id": "6ffaead9-f975-4669-91ea-8221892a28de",
   "metadata": {},
   "outputs": [
    {
     "name": "stdout",
     "output_type": "stream",
     "text": [
      "Environment variables loaded.\n"
     ]
    }
   ],
   "source": [
    "# Load the .env file to access environment variables (e.g., your API Key)\n",
    "dotenv.load_dotenv()\n",
    "\n",
    "print(\"Environment variables loaded.\")"
   ]
  },
  {
   "cell_type": "markdown",
   "id": "7071af15-2cb5-4ef1-98d6-04ff935dbd04",
   "metadata": {},
   "source": [
    "### Retrieve API Key\n",
    "We access the stored API key using os.getenv()."
   ]
  },
  {
   "cell_type": "code",
   "execution_count": 4,
   "id": "d99c4807-4efb-43a2-8236-a54339673626",
   "metadata": {},
   "outputs": [
    {
     "name": "stdout",
     "output_type": "stream",
     "text": [
      "News API key successfully retrieved.\n"
     ]
    }
   ],
   "source": [
    "# Get the News API key from the environment variables\n",
    "newskey = os.getenv('newskey')\n",
    "\n",
    "# We won't print the key, but we confirm it's loaded (e.g., by checking its length)\n",
    "if newskey:\n",
    "    print(\"News API key successfully retrieved.\")\n",
    "else:\n",
    "    print(\"ERROR: News API key not found. Check your .env file.\")"
   ]
  },
  {
   "cell_type": "markdown",
   "id": "2c2de509-7b66-49ff-8d14-b77ad7a60c14",
   "metadata": {},
   "source": [
    "---"
   ]
  },
  {
   "cell_type": "markdown",
   "id": "e71f2ee3-a1d5-4232-851e-4f934a6e2417",
   "metadata": {},
   "source": [
    "## Phase 2: Building the API Request Components\n",
    "An HTTP request requires four main components: URL root, endpoint, headers (for security/metadata), and parameters (the query)."
   ]
  },
  {
   "cell_type": "markdown",
   "id": "4e120544-61cb-46d2-b5a1-045d95df4a2f",
   "metadata": {},
   "source": [
    "### Build User Agent Header\n",
    "Many APIs require a User-agent to identify the client application. We use httpbin.org to dynamically grab a standard User-agent string."
   ]
  },
  {
   "cell_type": "code",
   "execution_count": 5,
   "id": "d399ea8a-2f04-46da-8fdd-09436ee2b51d",
   "metadata": {},
   "outputs": [
    {
     "name": "stdout",
     "output_type": "stream",
     "text": [
      "User-agent: python-requests/2.32.4\n",
      "Headers dictionary created, containing the API key.\n"
     ]
    }
   ],
   "source": [
    "# 1. Get a standard User-agent string\n",
    "r = requests.get('https://httpbin.org/user-agent')\n",
    "useragent = json.loads(r.text)['user-agent']\n",
    "\n",
    "# 2. Build the full headers dictionary\n",
    "# The API key is sent via the 'X-Api-Key' header, a common secure method.\n",
    "headers = {'User-agent': useragent,\n",
    "           'X-Api-Key': newskey}\n",
    "\n",
    "print(f\"User-agent: {useragent}\")\n",
    "print(\"Headers dictionary created, containing the API key.\")"
   ]
  },
  {
   "cell_type": "markdown",
   "id": "3058069f-4e41-414d-aac2-bfb8e506693e",
   "metadata": {},
   "source": [
    "### Define URL Root and Endpoint\n",
    "This defines the fixed address for the NewsAPI service we want to use."
   ]
  },
  {
   "cell_type": "code",
   "execution_count": 6,
   "id": "f690335c-d0f0-4d1d-91ae-8aac3e9a742c",
   "metadata": {},
   "outputs": [
    {
     "name": "stdout",
     "output_type": "stream",
     "text": [
      "API Base URL: https://newsapi.org/v2/everything\n"
     ]
    }
   ],
   "source": [
    "# Define the fixed URL parts\n",
    "root = 'https://newsapi.org'\n",
    "endpoint = '/v2/everything' # This endpoint searches all articles\n",
    "\n",
    "print(f\"API Base URL: {root + endpoint}\")"
   ]
  },
  {
   "cell_type": "markdown",
   "id": "4ab99c91-4fc4-451c-8986-0a8ee6856ebc",
   "metadata": {},
   "source": [
    "### Define Query Parameters\n",
    "Parameters are used to customize the search (e.g., topic, language, date)."
   ]
  },
  {
   "cell_type": "code",
   "execution_count": 7,
   "id": "14b6b582-fbda-4307-9150-7386f0a17e45",
   "metadata": {},
   "outputs": [
    {
     "name": "stdout",
     "output_type": "stream",
     "text": [
      "Query parameters defined:\n",
      "{'q': '\"tallest mountain\"', 'searchIn': 'content', 'language': 'en', 'pageSize': 100}\n"
     ]
    }
   ],
   "source": [
    "# Define the search parameters as a Python dictionary\n",
    "params = {'q': '\"tallest mountain\"',  # Topic to search for (using quotes for exact phrase)\n",
    "         'searchIn': 'content',      # Search within the article content\n",
    "         'language': 'en',           # Restrict to English articles\n",
    "         'pageSize': 100}            # Request up to 100 articles\n",
    "\n",
    "print(\"Query parameters defined:\")\n",
    "print(params)"
   ]
  },
  {
   "cell_type": "markdown",
   "id": "f9eaced6-2b38-40f9-9cae-66dd7294ea43",
   "metadata": {},
   "source": [
    "---"
   ]
  },
  {
   "cell_type": "markdown",
   "id": "e9c4b522-db1d-4987-bf70-19bb40be3b1e",
   "metadata": {},
   "source": [
    "## Phase 3: API Execution and Parsing"
   ]
  },
  {
   "cell_type": "markdown",
   "id": "78ca83bb-3417-473c-8ba6-18dbaee32bc7",
   "metadata": {},
   "source": [
    "### Submit the GET Request\n",
    "This cell sends the request and checks the response status. A `<Response [200]>` indicates success."
   ]
  },
  {
   "cell_type": "code",
   "execution_count": 8,
   "id": "9bd9fbca-d7b3-4a0e-a116-b25264f725c2",
   "metadata": {},
   "outputs": [
    {
     "name": "stdout",
     "output_type": "stream",
     "text": [
      "Request submitted. Status: <Response [200]>\n"
     ]
    }
   ],
   "source": [
    "# Combine the components and submit the GET request\n",
    "r = requests.get(root + endpoint,\n",
    "                headers = headers,\n",
    "                params = params)\n",
    "\n",
    "# Display the response object (it should show <Response [200]>)\n",
    "print(f\"Request submitted. Status: {r}\")"
   ]
  },
  {
   "cell_type": "markdown",
   "id": "3bafe96c-249e-4b75-98e5-a953a978b3ff",
   "metadata": {},
   "source": [
    "### Parse the JSON Response\n",
    "The response (`r.text`) is a single string containing the JSON data. We use `json.loads()` to convert this string into a usable Python dictionary."
   ]
  },
  {
   "cell_type": "code",
   "execution_count": 9,
   "id": "d7083f83-3758-40d2-afb7-ee9807e8e28e",
   "metadata": {},
   "outputs": [
    {
     "name": "stdout",
     "output_type": "stream",
     "text": [
      "JSON response converted to a Python dictionary (Type: <class 'dict'>)\n",
      "Top-level keys in the response:\n",
      "['status', 'totalResults', 'articles']\n"
     ]
    }
   ],
   "source": [
    "# Convert the JSON response string into a Python dictionary\n",
    "myjson = json.loads(r.text)\n",
    "\n",
    "print(f\"JSON response converted to a Python dictionary (Type: {type(myjson)})\")\n",
    "print(\"Top-level keys in the response:\")\n",
    "print(list(myjson.keys()))"
   ]
  },
  {
   "cell_type": "markdown",
   "id": "31cb5910-e2e1-4536-9bd9-5eb4b306456c",
   "metadata": {},
   "source": [
    "### View Raw JSON Data Structure (Optional)\n",
    "This cell is often left commented out to avoid printing a massive wall of text but serves as a way to inspect the data structure."
   ]
  },
  {
   "cell_type": "code",
   "execution_count": 10,
   "id": "c0c3b976-b308-4c0c-93d7-246994bb28df",
   "metadata": {},
   "outputs": [],
   "source": [
    "# Uncomment this line to inspect the full structure of the JSON dictionary\n",
    "# print(json.dumps(myjson, indent=4))"
   ]
  },
  {
   "cell_type": "markdown",
   "id": "206e27f2-14c4-4497-bf40-c29ef1148d34",
   "metadata": {},
   "source": [
    "### Normalize JSON to DataFrame\n",
    "The key data is nested under the articles key. Pandas’ json_normalize() function flattens this nested data into a clean, tabular DataFrame."
   ]
  },
  {
   "cell_type": "code",
   "execution_count": 11,
   "id": "d7024cc7-939a-476f-8467-5d3f6bd58988",
   "metadata": {},
   "outputs": [
    {
     "name": "stdout",
     "output_type": "stream",
     "text": [
      "DataFrame created with 21 articles.\n",
      "First 5 rows of the DataFrame:\n"
     ]
    },
    {
     "data": {
      "text/html": [
       "<div>\n",
       "<style scoped>\n",
       "    .dataframe tbody tr th:only-of-type {\n",
       "        vertical-align: middle;\n",
       "    }\n",
       "\n",
       "    .dataframe tbody tr th {\n",
       "        vertical-align: top;\n",
       "    }\n",
       "\n",
       "    .dataframe thead th {\n",
       "        text-align: right;\n",
       "    }\n",
       "</style>\n",
       "<table border=\"1\" class=\"dataframe\">\n",
       "  <thead>\n",
       "    <tr style=\"text-align: right;\">\n",
       "      <th></th>\n",
       "      <th>author</th>\n",
       "      <th>title</th>\n",
       "      <th>description</th>\n",
       "      <th>url</th>\n",
       "      <th>urlToImage</th>\n",
       "      <th>publishedAt</th>\n",
       "      <th>content</th>\n",
       "      <th>source.id</th>\n",
       "      <th>source.name</th>\n",
       "    </tr>\n",
       "  </thead>\n",
       "  <tbody>\n",
       "    <tr>\n",
       "      <th>0</th>\n",
       "      <td>Lydia Mansel</td>\n",
       "      <td>This Historic Train Climbs the Tallest Mountai...</td>\n",
       "      <td>Riding the Mount Washington Cog Railway is one...</td>\n",
       "      <td>https://www.travelandleisure.com/mount-washing...</td>\n",
       "      <td>https://s.yimg.com/ny/api/res/1.2/JmSXRiaGiWkv...</td>\n",
       "      <td>2025-09-20T16:00:00Z</td>\n",
       "      <td>Key Points\\r\\n&lt;ul&gt;&lt;li&gt;The Mount Washington Cog...</td>\n",
       "      <td>None</td>\n",
       "      <td>Travel+Leisure</td>\n",
       "    </tr>\n",
       "    <tr>\n",
       "      <th>1</th>\n",
       "      <td>Express Web Desk</td>\n",
       "      <td>Polish skier becomes first to climb, ski down ...</td>\n",
       "      <td>In 2018, the Polish climber was the first pers...</td>\n",
       "      <td>https://indianexpress.com/article/world/polish...</td>\n",
       "      <td>https://images.indianexpress.com/2025/09/polan...</td>\n",
       "      <td>2025-09-28T04:50:59Z</td>\n",
       "      <td>Polish skier Andrzej Bargiel made history this...</td>\n",
       "      <td>None</td>\n",
       "      <td>The Indian Express</td>\n",
       "    </tr>\n",
       "    <tr>\n",
       "      <th>2</th>\n",
       "      <td>Georgie English</td>\n",
       "      <td>CLEAREST EVER SIGNS OF LIFE ON MARS...</td>\n",
       "      <td>NASA has revealed the clearest signs of life o...</td>\n",
       "      <td>https://www.the-sun.com/tech/15159152/nasa-mar...</td>\n",
       "      <td>https://www.the-sun.com/wp-content/uploads/sit...</td>\n",
       "      <td>2025-09-10T17:34:37Z</td>\n",
       "      <td>NASA has revealed the clearest signs of life o...</td>\n",
       "      <td>None</td>\n",
       "      <td>The-sun.com</td>\n",
       "    </tr>\n",
       "    <tr>\n",
       "      <th>3</th>\n",
       "      <td>ABC News</td>\n",
       "      <td>Sudan landslide claims 1,000 lives, village 'c...</td>\n",
       "      <td>The Sudan Liberation Movement/Army is appealin...</td>\n",
       "      <td>https://www.abc.net.au/news/2025-09-02/sudan-l...</td>\n",
       "      <td>https://live-production.wcms.abc-cdn.net.au/73...</td>\n",
       "      <td>2025-09-02T07:52:51Z</td>\n",
       "      <td>At least 1,000 people were killed in a landsli...</td>\n",
       "      <td>abc-news-au</td>\n",
       "      <td>ABC News (AU)</td>\n",
       "    </tr>\n",
       "    <tr>\n",
       "      <th>4</th>\n",
       "      <td>sascha.pare@futurenet.com (Sascha Pare) , Sasc...</td>\n",
       "      <td>The geology that holds up the Himalayas is not...</td>\n",
       "      <td>A 100-year-old theory explaining how Asia can ...</td>\n",
       "      <td>https://www.livescience.com/planet-earth/geolo...</td>\n",
       "      <td>https://cdn.mos.cms.futurecdn.net/KMwyEqed8eMT...</td>\n",
       "      <td>2025-08-30T15:50:00Z</td>\n",
       "      <td>Scientists may have just toppled a 100-year-ol...</td>\n",
       "      <td>None</td>\n",
       "      <td>Live Science</td>\n",
       "    </tr>\n",
       "  </tbody>\n",
       "</table>\n",
       "</div>"
      ],
      "text/plain": [
       "                                              author  \\\n",
       "0                                       Lydia Mansel   \n",
       "1                                   Express Web Desk   \n",
       "2                                    Georgie English   \n",
       "3                                           ABC News   \n",
       "4  sascha.pare@futurenet.com (Sascha Pare) , Sasc...   \n",
       "\n",
       "                                               title  \\\n",
       "0  This Historic Train Climbs the Tallest Mountai...   \n",
       "1  Polish skier becomes first to climb, ski down ...   \n",
       "2             CLEAREST EVER SIGNS OF LIFE ON MARS...   \n",
       "3  Sudan landslide claims 1,000 lives, village 'c...   \n",
       "4  The geology that holds up the Himalayas is not...   \n",
       "\n",
       "                                         description  \\\n",
       "0  Riding the Mount Washington Cog Railway is one...   \n",
       "1  In 2018, the Polish climber was the first pers...   \n",
       "2  NASA has revealed the clearest signs of life o...   \n",
       "3  The Sudan Liberation Movement/Army is appealin...   \n",
       "4  A 100-year-old theory explaining how Asia can ...   \n",
       "\n",
       "                                                 url  \\\n",
       "0  https://www.travelandleisure.com/mount-washing...   \n",
       "1  https://indianexpress.com/article/world/polish...   \n",
       "2  https://www.the-sun.com/tech/15159152/nasa-mar...   \n",
       "3  https://www.abc.net.au/news/2025-09-02/sudan-l...   \n",
       "4  https://www.livescience.com/planet-earth/geolo...   \n",
       "\n",
       "                                          urlToImage           publishedAt  \\\n",
       "0  https://s.yimg.com/ny/api/res/1.2/JmSXRiaGiWkv...  2025-09-20T16:00:00Z   \n",
       "1  https://images.indianexpress.com/2025/09/polan...  2025-09-28T04:50:59Z   \n",
       "2  https://www.the-sun.com/wp-content/uploads/sit...  2025-09-10T17:34:37Z   \n",
       "3  https://live-production.wcms.abc-cdn.net.au/73...  2025-09-02T07:52:51Z   \n",
       "4  https://cdn.mos.cms.futurecdn.net/KMwyEqed8eMT...  2025-08-30T15:50:00Z   \n",
       "\n",
       "                                             content    source.id  \\\n",
       "0  Key Points\\r\\n<ul><li>The Mount Washington Cog...         None   \n",
       "1  Polish skier Andrzej Bargiel made history this...         None   \n",
       "2  NASA has revealed the clearest signs of life o...         None   \n",
       "3  At least 1,000 people were killed in a landsli...  abc-news-au   \n",
       "4  Scientists may have just toppled a 100-year-ol...         None   \n",
       "\n",
       "          source.name  \n",
       "0      Travel+Leisure  \n",
       "1  The Indian Express  \n",
       "2         The-sun.com  \n",
       "3       ABC News (AU)  \n",
       "4        Live Science  "
      ]
     },
     "metadata": {},
     "output_type": "display_data"
    }
   ],
   "source": [
    "# Use json_normalize to extract the list of article dictionaries ('articles')\n",
    "news_df = pd.json_normalize(myjson, record_path = ['articles'])\n",
    "\n",
    "print(f\"DataFrame created with {len(news_df)} articles.\")\n",
    "print(\"First 5 rows of the DataFrame:\")\n",
    "display(news_df.head())"
   ]
  },
  {
   "cell_type": "markdown",
   "id": "ad96d273-19eb-476d-95b7-4ca9bbfca0e4",
   "metadata": {
    "tags": []
   },
   "source": [
    "---"
   ]
  },
  {
   "cell_type": "markdown",
   "id": "a5a91699-449d-4ef0-bca3-91a032365440",
   "metadata": {},
   "source": [
    "## Phase 4: Data Analysis and Export"
   ]
  },
  {
   "cell_type": "markdown",
   "id": "1031212a-e2a1-47dc-953d-0c00d212e977",
   "metadata": {},
   "source": [
    "### Clean and Prepare for Export\n",
    "Perform a final step to ensure the data is properly formatted before saving."
   ]
  },
  {
   "cell_type": "code",
   "execution_count": 12,
   "id": "40e76dd9-f0fe-45c5-84ab-c283c4c9953b",
   "metadata": {},
   "outputs": [
    {
     "name": "stdout",
     "output_type": "stream",
     "text": [
      "DataFrame prepared for export.\n"
     ]
    }
   ],
   "source": [
    "# Clean up the publishedAt column (convert to datetime)\n",
    "news_df['publishedAt'] = pd.to_datetime(news_df['publishedAt'])\n",
    "\n",
    "# Select a final set of columns for the CSV\n",
    "final_df = news_df[['publishedAt', 'title', 'description', 'url', 'source.name', 'author']].copy()\n",
    "\n",
    "print(\"DataFrame prepared for export.\")"
   ]
  },
  {
   "cell_type": "markdown",
   "id": "9a5e4a19-f79c-4c35-ac08-0fa00a08d926",
   "metadata": {},
   "source": [
    "### Export to CSV\n",
    "This is the final Load (L) phase of the data acquisition process."
   ]
  },
  {
   "cell_type": "code",
   "execution_count": 13,
   "id": "a8b0fb79-089b-4870-ba9c-284ba6d57cd6",
   "metadata": {},
   "outputs": [
    {
     "name": "stdout",
     "output_type": "stream",
     "text": [
      "Successfully exported 21 articles to news_articles_20250929_235350.csv\n"
     ]
    }
   ],
   "source": [
    "# Define a filename based on the current date for organization\n",
    "timestamp = datetime.now().strftime(\"%Y%m%d_%H%M%S\")\n",
    "output_filename = f'news_articles_{timestamp}.csv'\n",
    "\n",
    "# Export the final clean DataFrame to a CSV file\n",
    "final_df.to_csv(output_filename, index=False)\n",
    "\n",
    "print(f\"Successfully exported {len(final_df)} articles to {output_filename}\")"
   ]
  },
  {
   "cell_type": "markdown",
   "id": "5df09ae6-f075-4505-8cd1-55ea1bb048d7",
   "metadata": {},
   "source": [
    "---"
   ]
  },
  {
   "cell_type": "markdown",
   "id": "22debddc-6f42-4e65-b312-f197937142b3",
   "metadata": {},
   "source": [
    "## Function Definition (Optional Consolidation)\n",
    "This final cell provides the consolidation of all steps into a single, reusable function—demonstrating how a script would execute the entire API call process."
   ]
  },
  {
   "cell_type": "code",
   "execution_count": 14,
   "id": "19593a69-02c0-4e82-9a56-56a5412b7773",
   "metadata": {},
   "outputs": [],
   "source": [
    "def grab_latest_articles():\n",
    "    \"\"\"\n",
    "    Consolidates all steps: builds request, calls API, parses JSON, and returns a DataFrame.\n",
    "    \"\"\"\n",
    "    \n",
    "    # Prompt the user\n",
    "    topic = input(\"Please enter your topic of interest: \")\n",
    "    \n",
    "    # Build our Headers\n",
    "    newskey = os.getenv('newskey')\n",
    "    r = requests.get('https://httpbin.org/user-agent')\n",
    "    useragent = json.loads(r.text)['user-agent']\n",
    "    headers = {'User-agent': useragent,\n",
    "               'X-Api-Key': newskey}\n",
    "\n",
    "    # Build our URL and Parameters\n",
    "    root = 'https://newsapi.org'\n",
    "    endpoint = '/v2/everything'\n",
    "    params = {'q': topic,\n",
    "              'searchIn': 'content',\n",
    "              'language': 'en',\n",
    "              'pageSize': 100}\n",
    "    \n",
    "    # Submit our Request\n",
    "    r = requests.get(root + endpoint,\n",
    "                headers = headers,\n",
    "                params = params)\n",
    "    \n",
    "    # Create and return the pandas dataframe\n",
    "    myjson = json.loads(r.text)\n",
    "    news_df = pd.json_normalize(myjson, record_path = ['articles'])\n",
    "    \n",
    "    return news_df"
   ]
  },
  {
   "cell_type": "code",
   "execution_count": 15,
   "id": "5c57470e-0554-443d-8563-e9eb94fa87c1",
   "metadata": {},
   "outputs": [
    {
     "data": {
      "text/html": [
       "<div>\n",
       "<style scoped>\n",
       "    .dataframe tbody tr th:only-of-type {\n",
       "        vertical-align: middle;\n",
       "    }\n",
       "\n",
       "    .dataframe tbody tr th {\n",
       "        vertical-align: top;\n",
       "    }\n",
       "\n",
       "    .dataframe thead th {\n",
       "        text-align: right;\n",
       "    }\n",
       "</style>\n",
       "<table border=\"1\" class=\"dataframe\">\n",
       "  <thead>\n",
       "    <tr style=\"text-align: right;\">\n",
       "      <th></th>\n",
       "      <th>author</th>\n",
       "      <th>title</th>\n",
       "      <th>description</th>\n",
       "      <th>url</th>\n",
       "      <th>urlToImage</th>\n",
       "      <th>publishedAt</th>\n",
       "      <th>content</th>\n",
       "      <th>source.id</th>\n",
       "      <th>source.name</th>\n",
       "    </tr>\n",
       "  </thead>\n",
       "  <tbody>\n",
       "    <tr>\n",
       "      <th>0</th>\n",
       "      <td>Jay Peters</td>\n",
       "      <td>Seven indie games that will upgrade your downt...</td>\n",
       "      <td>We all know there's a lot of tech to potential...</td>\n",
       "      <td>https://www.theverge.com/games/774447/upgrade-...</td>\n",
       "      <td>https://platform.theverge.com/wp-content/uploa...</td>\n",
       "      <td>2025-09-16T22:55:11Z</td>\n",
       "      <td>&lt;ul&gt;&lt;li&gt;&lt;/li&gt;&lt;li&gt;&lt;/li&gt;&lt;/ul&gt;\\r\\nHere are some r...</td>\n",
       "      <td>the-verge</td>\n",
       "      <td>The Verge</td>\n",
       "    </tr>\n",
       "    <tr>\n",
       "      <th>1</th>\n",
       "      <td>Hartley Charlton</td>\n",
       "      <td>Apple Slashes 2025 MLS Season Pass to as Low a...</td>\n",
       "      <td>Apple has significantly discounted the MLS Sea...</td>\n",
       "      <td>https://www.macrumors.com/2025/09/01/apple-sla...</td>\n",
       "      <td>https://images.macrumors.com/t/fnB81VD_ndH8uvO...</td>\n",
       "      <td>2025-09-01T15:56:46Z</td>\n",
       "      <td>Apple has significantly discounted the MLS Sea...</td>\n",
       "      <td>None</td>\n",
       "      <td>MacRumors</td>\n",
       "    </tr>\n",
       "    <tr>\n",
       "      <th>2</th>\n",
       "      <td>Reed Alexander,Olivia Nemec</td>\n",
       "      <td>How soccer and ballet taught top Goldman and K...</td>\n",
       "      <td>In a conversation with Business Insider, Goldm...</td>\n",
       "      <td>https://www.businessinsider.com/how-soccer-bal...</td>\n",
       "      <td>https://i.insider.com/68a8b5f5cfc04e97619be276...</td>\n",
       "      <td>2025-08-30T10:03:01Z</td>\n",
       "      <td>From left: Goldman Sachs partner Lizzie Reed, ...</td>\n",
       "      <td>business-insider</td>\n",
       "      <td>Business Insider</td>\n",
       "    </tr>\n",
       "    <tr>\n",
       "      <th>3</th>\n",
       "      <td>Gael Cooper</td>\n",
       "      <td>Today's NYT Connections: Sports Edition Hints ...</td>\n",
       "      <td>Here's today's Connections: Sports Edition ans...</td>\n",
       "      <td>https://www.cnet.com/tech/gaming/todays-nyt-co...</td>\n",
       "      <td>https://www.cnet.com/a/img/resize/b6a176556f33...</td>\n",
       "      <td>2025-09-04T20:45:52Z</td>\n",
       "      <td>Looking for the most recent regular Connection...</td>\n",
       "      <td>None</td>\n",
       "      <td>CNET</td>\n",
       "    </tr>\n",
       "    <tr>\n",
       "      <th>4</th>\n",
       "      <td>Bradley Hope</td>\n",
       "      <td>The Story of British Billionaire Mike Lynch’s ...</td>\n",
       "      <td>WIRED investigates the untimely death of the E...</td>\n",
       "      <td>https://www.wired.com/story/mike-lynch-sinking...</td>\n",
       "      <td>https://media.wired.com/photos/68b8546861b9bd1...</td>\n",
       "      <td>2025-09-10T10:00:00Z</td>\n",
       "      <td>The court delivered a devastating judgment in ...</td>\n",
       "      <td>wired</td>\n",
       "      <td>Wired</td>\n",
       "    </tr>\n",
       "    <tr>\n",
       "      <th>...</th>\n",
       "      <td>...</td>\n",
       "      <td>...</td>\n",
       "      <td>...</td>\n",
       "      <td>...</td>\n",
       "      <td>...</td>\n",
       "      <td>...</td>\n",
       "      <td>...</td>\n",
       "      <td>...</td>\n",
       "      <td>...</td>\n",
       "    </tr>\n",
       "    <tr>\n",
       "      <th>95</th>\n",
       "      <td>Opheli Garcia Lawler</td>\n",
       "      <td>‘South Park’ Abandons Controversial Topic of C...</td>\n",
       "      <td>By\\n Opheli Garcia Lawler\\n Published: Septemb...</td>\n",
       "      <td>https://www.cracked.com/article_48507_south-pa...</td>\n",
       "      <td>https://s3.crackedcdn.com/phpimages/article/1/...</td>\n",
       "      <td>2025-09-25T04:30:00Z</td>\n",
       "      <td>If nothing else, tonights South Park episode, ...</td>\n",
       "      <td>None</td>\n",
       "      <td>Cracked.com</td>\n",
       "    </tr>\n",
       "    <tr>\n",
       "      <th>96</th>\n",
       "      <td>Gabriele Marcotti</td>\n",
       "      <td>Man City's big men step up vs. Man United; luc...</td>\n",
       "      <td>Man City's \"big men\" came up big in Sunday's d...</td>\n",
       "      <td>https://www.espn.com/soccer/story/_/id/4626410...</td>\n",
       "      <td>https://a4.espncdn.com/combiner/i?img=%2Fphoto...</td>\n",
       "      <td>2025-09-15T12:06:44Z</td>\n",
       "      <td>European club soccer returned with plenty of d...</td>\n",
       "      <td>espn</td>\n",
       "      <td>ESPN</td>\n",
       "    </tr>\n",
       "    <tr>\n",
       "      <th>97</th>\n",
       "      <td>Tristan Lavalette, Contributor, \\n Tristan Lav...</td>\n",
       "      <td>Major League Cricket Owners Eying Potential Bi...</td>\n",
       "      <td>The potential privatization of Australia’s Big...</td>\n",
       "      <td>https://www.forbes.com/sites/tristanlavalette/...</td>\n",
       "      <td>https://imageio.forbes.com/specials-images/ima...</td>\n",
       "      <td>2025-08-31T06:40:46Z</td>\n",
       "      <td>Hobart Hurricanes are the reigning BBL champio...</td>\n",
       "      <td>None</td>\n",
       "      <td>Forbes</td>\n",
       "    </tr>\n",
       "    <tr>\n",
       "      <th>98</th>\n",
       "      <td>lowryb3865@gmail.com (Brendan Lowry) , Brendan...</td>\n",
       "      <td>\"One mistake, and it's your last\" — How STALKE...</td>\n",
       "      <td>Ukraine is \"one of the most mine-contaminated ...</td>\n",
       "      <td>https://www.windowscentral.com/gaming/how-stal...</td>\n",
       "      <td>https://cdn.mos.cms.futurecdn.net/bkJsV6p7mXmj...</td>\n",
       "      <td>2025-09-26T22:29:16Z</td>\n",
       "      <td>GSC Game World, the development team behind ST...</td>\n",
       "      <td>None</td>\n",
       "      <td>Windows Central</td>\n",
       "    </tr>\n",
       "    <tr>\n",
       "      <th>99</th>\n",
       "      <td>Damon Wise</td>\n",
       "      <td>‘Saipan’ Review: Newcomer Éanna Hardwicke Is A...</td>\n",
       "      <td>There’s trouble in paradise in this surprising...</td>\n",
       "      <td>http://deadline.com/2025/09/saipan-review-lisa...</td>\n",
       "      <td>https://deadline.com/wp-content/uploads/2025/0...</td>\n",
       "      <td>2025-09-05T09:56:39Z</td>\n",
       "      <td>There’s trouble in paradise in this surprising...</td>\n",
       "      <td>None</td>\n",
       "      <td>Deadline</td>\n",
       "    </tr>\n",
       "  </tbody>\n",
       "</table>\n",
       "<p>100 rows × 9 columns</p>\n",
       "</div>"
      ],
      "text/plain": [
       "                                               author  \\\n",
       "0                                          Jay Peters   \n",
       "1                                    Hartley Charlton   \n",
       "2                         Reed Alexander,Olivia Nemec   \n",
       "3                                         Gael Cooper   \n",
       "4                                        Bradley Hope   \n",
       "..                                                ...   \n",
       "95                               Opheli Garcia Lawler   \n",
       "96                                  Gabriele Marcotti   \n",
       "97  Tristan Lavalette, Contributor, \\n Tristan Lav...   \n",
       "98  lowryb3865@gmail.com (Brendan Lowry) , Brendan...   \n",
       "99                                         Damon Wise   \n",
       "\n",
       "                                                title  \\\n",
       "0   Seven indie games that will upgrade your downt...   \n",
       "1   Apple Slashes 2025 MLS Season Pass to as Low a...   \n",
       "2   How soccer and ballet taught top Goldman and K...   \n",
       "3   Today's NYT Connections: Sports Edition Hints ...   \n",
       "4   The Story of British Billionaire Mike Lynch’s ...   \n",
       "..                                                ...   \n",
       "95  ‘South Park’ Abandons Controversial Topic of C...   \n",
       "96  Man City's big men step up vs. Man United; luc...   \n",
       "97  Major League Cricket Owners Eying Potential Bi...   \n",
       "98  \"One mistake, and it's your last\" — How STALKE...   \n",
       "99  ‘Saipan’ Review: Newcomer Éanna Hardwicke Is A...   \n",
       "\n",
       "                                          description  \\\n",
       "0   We all know there's a lot of tech to potential...   \n",
       "1   Apple has significantly discounted the MLS Sea...   \n",
       "2   In a conversation with Business Insider, Goldm...   \n",
       "3   Here's today's Connections: Sports Edition ans...   \n",
       "4   WIRED investigates the untimely death of the E...   \n",
       "..                                                ...   \n",
       "95  By\\n Opheli Garcia Lawler\\n Published: Septemb...   \n",
       "96  Man City's \"big men\" came up big in Sunday's d...   \n",
       "97  The potential privatization of Australia’s Big...   \n",
       "98  Ukraine is \"one of the most mine-contaminated ...   \n",
       "99  There’s trouble in paradise in this surprising...   \n",
       "\n",
       "                                                  url  \\\n",
       "0   https://www.theverge.com/games/774447/upgrade-...   \n",
       "1   https://www.macrumors.com/2025/09/01/apple-sla...   \n",
       "2   https://www.businessinsider.com/how-soccer-bal...   \n",
       "3   https://www.cnet.com/tech/gaming/todays-nyt-co...   \n",
       "4   https://www.wired.com/story/mike-lynch-sinking...   \n",
       "..                                                ...   \n",
       "95  https://www.cracked.com/article_48507_south-pa...   \n",
       "96  https://www.espn.com/soccer/story/_/id/4626410...   \n",
       "97  https://www.forbes.com/sites/tristanlavalette/...   \n",
       "98  https://www.windowscentral.com/gaming/how-stal...   \n",
       "99  http://deadline.com/2025/09/saipan-review-lisa...   \n",
       "\n",
       "                                           urlToImage           publishedAt  \\\n",
       "0   https://platform.theverge.com/wp-content/uploa...  2025-09-16T22:55:11Z   \n",
       "1   https://images.macrumors.com/t/fnB81VD_ndH8uvO...  2025-09-01T15:56:46Z   \n",
       "2   https://i.insider.com/68a8b5f5cfc04e97619be276...  2025-08-30T10:03:01Z   \n",
       "3   https://www.cnet.com/a/img/resize/b6a176556f33...  2025-09-04T20:45:52Z   \n",
       "4   https://media.wired.com/photos/68b8546861b9bd1...  2025-09-10T10:00:00Z   \n",
       "..                                                ...                   ...   \n",
       "95  https://s3.crackedcdn.com/phpimages/article/1/...  2025-09-25T04:30:00Z   \n",
       "96  https://a4.espncdn.com/combiner/i?img=%2Fphoto...  2025-09-15T12:06:44Z   \n",
       "97  https://imageio.forbes.com/specials-images/ima...  2025-08-31T06:40:46Z   \n",
       "98  https://cdn.mos.cms.futurecdn.net/bkJsV6p7mXmj...  2025-09-26T22:29:16Z   \n",
       "99  https://deadline.com/wp-content/uploads/2025/0...  2025-09-05T09:56:39Z   \n",
       "\n",
       "                                              content         source.id  \\\n",
       "0   <ul><li></li><li></li></ul>\\r\\nHere are some r...         the-verge   \n",
       "1   Apple has significantly discounted the MLS Sea...              None   \n",
       "2   From left: Goldman Sachs partner Lizzie Reed, ...  business-insider   \n",
       "3   Looking for the most recent regular Connection...              None   \n",
       "4   The court delivered a devastating judgment in ...             wired   \n",
       "..                                                ...               ...   \n",
       "95  If nothing else, tonights South Park episode, ...              None   \n",
       "96  European club soccer returned with plenty of d...              espn   \n",
       "97  Hobart Hurricanes are the reigning BBL champio...              None   \n",
       "98  GSC Game World, the development team behind ST...              None   \n",
       "99  There’s trouble in paradise in this surprising...              None   \n",
       "\n",
       "         source.name  \n",
       "0          The Verge  \n",
       "1          MacRumors  \n",
       "2   Business Insider  \n",
       "3               CNET  \n",
       "4              Wired  \n",
       "..               ...  \n",
       "95       Cracked.com  \n",
       "96              ESPN  \n",
       "97            Forbes  \n",
       "98   Windows Central  \n",
       "99          Deadline  \n",
       "\n",
       "[100 rows x 9 columns]"
      ]
     },
     "execution_count": 15,
     "metadata": {},
     "output_type": "execute_result"
    }
   ],
   "source": [
    "grab_latest_articles()"
   ]
  },
  {
   "cell_type": "code",
   "execution_count": null,
   "id": "2d688c4a-c4dd-4b0e-9409-bf5384a1a964",
   "metadata": {},
   "outputs": [],
   "source": []
  }
 ],
 "metadata": {
  "kernelspec": {
   "display_name": "Python 3",
   "language": "python",
   "name": "python3"
  },
  "language_info": {
   "codemirror_mode": {
    "name": "ipython",
    "version": 3
   },
   "file_extension": ".py",
   "mimetype": "text/x-python",
   "name": "python",
   "nbconvert_exporter": "python",
   "pygments_lexer": "ipython3",
   "version": "3.12.1"
  }
 },
 "nbformat": 4,
 "nbformat_minor": 5
}
